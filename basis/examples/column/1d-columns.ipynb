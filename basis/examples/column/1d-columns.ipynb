{
 "cells": [
  {
   "cell_type": "markdown",
   "id": "c94f0fc1-3200-402f-8be6-c1ca1769dd47",
   "metadata": {},
   "source": [
    "### BasIS model: 1D column experiments"
   ]
  },
  {
   "cell_type": "code",
   "execution_count": 1,
   "id": "c8942476-0b89-4591-bb8f-2a05f73e8d02",
   "metadata": {},
   "outputs": [],
   "source": [
    "import numpy as np\n",
    "import matplotlib.pyplot as plt\n",
    "\n",
    "from landlab import RasterModelGrid\n",
    "from landlab.plot import imshow_grid\n",
    "\n",
    "import sys\n",
    "sys.path.append('/home/egp/repos/basal-ice-facies/basis/src/')\n",
    "from src.basal_ice_stratigrapher import BasalIceStratigrapher"
   ]
  },
  {
   "cell_type": "markdown",
   "id": "efe673e9-e05d-4e91-a5f4-66e02c316ab1",
   "metadata": {},
   "source": [
    "### Section 1) Particle velocity function"
   ]
  },
  {
   "cell_type": "code",
   "execution_count": 2,
   "id": "c3bac4a9-6151-4271-b620-04856cda9ce5",
   "metadata": {},
   "outputs": [],
   "source": [
    "def calc_particle_velocity(G, T):\n",
    "    \"\"\"Calculate the velocity of an individual particle at the top of the frozen fringe layer.\"\"\"\n",
    "    \n",
    "    A = 4.6e-21\n",
    "    mu = 1.8e-3\n",
    "    r = 5e-5\n",
    "    Tm = 273\n",
    "    \n",
    "    coeff = A / (36 * np.pi * mu * r)\n",
    "    velocity = coeff * G / (Tm - T)\n",
    "    \n",
    "    return velocity"
   ]
  },
  {
   "cell_type": "markdown",
   "id": "841efe93-0ba9-4699-b003-ec3b9c16eb0e",
   "metadata": {},
   "source": [
    "### Section 2) Example column"
   ]
  },
  {
   "cell_type": "markdown",
   "id": "f5a0219d-d9ab-4403-88b4-ac1917c28c11",
   "metadata": {},
   "source": [
    "### Characteristics:\n",
    "- H = 110 m\n",
    "- N = 100 kPa\n",
    "- u$_b$ = 50 m a$^{-1}$\n",
    "- Grid shape = (3, 3)"
   ]
  },
  {
   "cell_type": "code",
   "execution_count": 55,
   "id": "111214de-8b51-41cb-af8a-b08bb623c50d",
   "metadata": {},
   "outputs": [],
   "source": [
    "basis = BasalIceStratigrapher('./inputs/input_file.toml')\n",
    "basis.calc_melt_rate()\n",
    "basis.calc_thermal_gradients()"
   ]
  },
  {
   "cell_type": "code",
   "execution_count": 56,
   "id": "0ada29e3-0145-4056-a57b-1a661b5514e5",
   "metadata": {},
   "outputs": [],
   "source": [
    "nt = 1590\n",
    "dts = np.zeros(nt)\n",
    "fringe = np.zeros(nt)\n",
    "fringe_dt = np.zeros(nt)\n",
    "disp = np.zeros(nt)\n",
    "disp_dt = np.zeros(nt)\n",
    "thetas = np.zeros(nt)\n",
    "sats = np.zeros(nt)\n",
    "temps = np.zeros(nt)\n",
    "Gs = np.zeros(nt)\n",
    "velocities = np.zeros(nt)"
   ]
  },
  {
   "cell_type": "code",
   "execution_count": 57,
   "id": "b8514f06-33d4-432d-b561-c341e56d7ebd",
   "metadata": {},
   "outputs": [],
   "source": [
    "for i in range(100):\n",
    "    dt = 1e-2 * i\n",
    "    \n",
    "    basis.run_one_step(dt, advection = False, dynamic_thinning = False)\n",
    "    \n",
    "    dts[i] = dt\n",
    "    fringe[i] = basis.grid.at_node['frozen_fringe__thickness'][5]\n",
    "    fringe_dt[i] = basis.grid.at_node['fringe__growth_rate'][5]\n",
    "    disp[i] = basis.grid.at_node['dispersed_layer__thickness'][5]\n",
    "    disp_dt[i] = basis.grid.at_node['dispersed_layer__growth_rate'][5]\n",
    "    thetas[i] = basis.grid.at_node['fringe__undercooling'][5]\n",
    "    sats[i] = basis.grid.at_node['fringe__saturation'][5]\n",
    "    \n",
    "    Tm = basis.parameters['melt_temperature']\n",
    "    temps[i] = Tm - (Tm - basis.parameters['fringe_base_temperature']) * thetas[i]\n",
    "    Gs[i] = (Tm - temps[i]) / basis.parameters['critical_depth']\n",
    "    \n",
    "    velocities[i] = calc_particle_velocity(Gs[i], temps[i])\n",
    "    "
   ]
  },
  {
   "cell_type": "code",
   "execution_count": 59,
   "id": "904d0699-9ecf-45cb-a5f4-db6ec9edbd16",
   "metadata": {},
   "outputs": [],
   "source": [
    "for j in np.arange(100) + 1:\n",
    "    dt = j\n",
    "    \n",
    "    basis.run_one_step(dt, advection = False, dynamic_thinning = False)\n",
    "    \n",
    "    dts[i + j] = dt\n",
    "    fringe[i + j] = basis.grid.at_node['frozen_fringe__thickness'][5]\n",
    "    fringe_dt[i + j] = basis.grid.at_node['fringe__growth_rate'][5]\n",
    "    disp[i + j] = basis.grid.at_node['dispersed_layer__thickness'][5]\n",
    "    disp_dt[i + j] = basis.grid.at_node['dispersed_layer__growth_rate'][5]\n",
    "    thetas[i + j] = basis.grid.at_node['fringe__undercooling'][5]\n",
    "    sats[i + j] = basis.grid.at_node['fringe__saturation'][5]\n",
    "    \n",
    "    Tm = basis.parameters['melt_temperature']\n",
    "    temps[i + j] = Tm - (Tm - basis.parameters['fringe_base_temperature']) * thetas[i + j]\n",
    "    Gs[i + j] = (Tm - temps[i + j]) / basis.parameters['critical_depth']\n",
    "    \n",
    "    velocities[i + j] = calc_particle_velocity(Gs[i + j], temps[i + j])"
   ]
  },
  {
   "cell_type": "code",
   "execution_count": 60,
   "id": "7c55943a-9400-4133-9068-b15515af17e5",
   "metadata": {},
   "outputs": [],
   "source": [
    "for k in np.arange(100) + 1:\n",
    "    dt = 100\n",
    "    \n",
    "    basis.run_one_step(dt, advection = False, dynamic_thinning = False)\n",
    "    \n",
    "    dts [i + j + k]  = dt\n",
    "    fringe [i + j + k]  = basis.grid.at_node['frozen_fringe__thickness'][5]\n",
    "    fringe_dt [i + j + k]  = basis.grid.at_node['fringe__growth_rate'][5]\n",
    "    disp [i + j + k]  = basis.grid.at_node['dispersed_layer__thickness'][5]\n",
    "    disp_dt [i + j + k]  = basis.grid.at_node['dispersed_layer__growth_rate'][5]\n",
    "    thetas [i + j + k]  = basis.grid.at_node['fringe__undercooling'][5]\n",
    "    sats [i + j + k]  = basis.grid.at_node['fringe__saturation'][5]\n",
    "    \n",
    "    Tm = basis.parameters['melt_temperature']\n",
    "    temps [i + j + k]  = Tm - (Tm - basis.parameters['fringe_base_temperature']) * thetas [i + j + k] \n",
    "    Gs [i + j + k]  = (Tm - temps [i + j + k] ) / basis.parameters['critical_depth']\n",
    "    \n",
    "    velocities [i + j + k]  = calc_particle_velocity(Gs [i + j + k] , temps [i + j + k] )"
   ]
  },
  {
   "cell_type": "code",
   "execution_count": 61,
   "id": "18d92d86-7091-4599-885c-94251a812f73",
   "metadata": {},
   "outputs": [],
   "source": [
    "for l in np.arange(1000) + 1:\n",
    "    dt = 315569.26\n",
    "    \n",
    "    basis.run_one_step(dt, advection = False, dynamic_thinning = False)\n",
    "    \n",
    "    dts [i + j + k + l]  = dt\n",
    "    fringe [i + j + k + l]  = basis.grid.at_node['frozen_fringe__thickness'][5]\n",
    "    fringe_dt [i + j + k + l]  = basis.grid.at_node['fringe__growth_rate'][5]\n",
    "    disp [i + j + k + l]  = basis.grid.at_node['dispersed_layer__thickness'][5]\n",
    "    disp_dt [i + j + k + l]  = basis.grid.at_node['dispersed_layer__growth_rate'][5]\n",
    "    thetas [i + j + k + l]  = basis.grid.at_node['fringe__undercooling'][5]\n",
    "    sats [i + j + k + l]  = basis.grid.at_node['fringe__saturation'][5]\n",
    "    \n",
    "    Tm = basis.parameters['melt_temperature']\n",
    "    temps [i + j + k + l]  = Tm - (Tm - basis.parameters['fringe_base_temperature']) * thetas [i + j + k + l] \n",
    "    Gs [i + j + k + l]  = (Tm - temps [i + j + k + l] ) / basis.parameters['critical_depth']\n",
    "    \n",
    "    velocities [i + j + k + l]  = calc_particle_velocity(Gs [i + j + k + l] , temps [i + j + k + l] )"
   ]
  },
  {
   "cell_type": "code",
   "execution_count": 62,
   "id": "3a7c4a2d-1a2a-486d-a553-4307cdc17d4c",
   "metadata": {},
   "outputs": [],
   "source": [
    "# Note that there are 31,556,926 seconds per year = 366,941 seconds per step for 86 steps\n",
    "\n",
    "for m in np.arange(290) + 1:\n",
    "    dt = 366941\n",
    "    \n",
    "    for n in range(86):\n",
    "        basis.run_one_step(dt, advection = False, dynamic_thinning = False)\n",
    "    \n",
    "    dts [i + j + k + l + m]  = dt * 86\n",
    "    fringe [i + j + k + l + m]  = basis.grid.at_node['frozen_fringe__thickness'][5]\n",
    "    fringe_dt [i + j + k + l + m]  = basis.grid.at_node['fringe__growth_rate'][5]\n",
    "    disp [i + j + k + l + m]  = basis.grid.at_node['dispersed_layer__thickness'][5]\n",
    "    disp_dt [i + j + k + l + m]  = basis.grid.at_node['dispersed_layer__growth_rate'][5]\n",
    "    thetas [i + j + k + l + m]  = basis.grid.at_node['fringe__undercooling'][5]\n",
    "    sats [i + j + k + l + m]  = basis.grid.at_node['fringe__saturation'][5]\n",
    "    Gs [i + j + k + l + m]  = basis.grid.at_node['dispersed_layer__gradient'][5]\n",
    "    \n",
    "    Tm = basis.parameters['melt_temperature']\n",
    "    temps [i + j + k + l + m]  = Tm - (Tm - basis.parameters['fringe_base_temperature']) * thetas [i + j + k + l + m] \n",
    "    velocities [i + j + k + l + m]  = calc_particle_velocity(Gs [i + j + k + l + m] , temps [i + j + k + l + m] )\n",
    "    \n",
    "    # print('Completed year ' + str(m))"
   ]
  },
  {
   "cell_type": "code",
   "execution_count": 63,
   "id": "693d5a1f-5367-477a-84f8-177b4418243e",
   "metadata": {},
   "outputs": [],
   "source": [
    "secpera = 31556926\n",
    "ts = np.cumsum(dts) / secpera"
   ]
  },
  {
   "cell_type": "code",
   "execution_count": 78,
   "id": "0d2c8c13-213d-48f6-b6c6-8774518e8474",
   "metadata": {},
   "outputs": [
    {
     "data": {
      "image/png": "[encoded data removed]",
      "text/plain": [
       "<Figure size 432x288 with 1 Axes>"
      ]
     },
     "metadata": {
      "needs_background": "light"
     },
     "output_type": "display_data"
    }
   ],
   "source": [
    "a = 301\n",
    "b = 1300\n",
    "plt.plot(ts[a:b], fringe[a:b])\n",
    "plt.show()"
   ]
  },
  {
   "cell_type": "code",
   "execution_count": null,
   "id": "e00928e2-eb13-45d7-9b58-4212cdffa3a0",
   "metadata": {},
   "outputs": [],
   "source": []
  }
 ],
 "metadata": {
  "kernelspec": {
   "display_name": "Python 3 (ipykernel)",
   "language": "python",
   "name": "python3"
  },
  "language_info": {
   "codemirror_mode": {
    "name": "ipython",
    "version": 3
   },
   "file_extension": ".py",
   "mimetype": "text/x-python",
   "name": "python",
   "nbconvert_exporter": "python",
   "pygments_lexer": "ipython3",
   "version": "3.10.4"
  }
 },
 "nbformat": 4,
 "nbformat_minor": 5
}
