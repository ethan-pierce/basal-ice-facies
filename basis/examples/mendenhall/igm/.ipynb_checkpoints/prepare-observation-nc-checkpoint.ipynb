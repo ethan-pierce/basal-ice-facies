{
 "cells": [
  {
   "cell_type": "code",
   "execution_count": 1,
   "id": "d4520d9b-3912-4356-ad42-07e21bb7a493",
   "metadata": {},
   "outputs": [],
   "source": [
    "import numpy as np\n",
    "import matplotlib.pyplot as plt\n",
    "import rasterio as rio\n",
    "from netCDF4 import Dataset"
   ]
  },
  {
   "cell_type": "code",
   "execution_count": 26,
   "id": "885924f6-1422-4d9e-abbb-2ffa47340d08",
   "metadata": {},
   "outputs": [
    {
     "data": {
      "text/plain": [
       "True"
      ]
     },
     "execution_count": 26,
     "metadata": {},
     "output_type": "execute_result"
    }
   ],
   "source": [
    "with rio.open('./gis/aligned/ice_thickness_aligned.tif') as f:\n",
    "    thkobs_data = f.read(1)\n",
    "    \n",
    "    cols, rows = np.meshgrid(np.arange(f.shape[1]), np.arange(f.shape[0]))\n",
    "    xs, ys = rio.transform.xy(f.transform, rows, cols)\n",
    "    lon_vals = np.array(xs)\n",
    "    lat_vals = np.array(ys)\n",
    "    \n",
    "with rio.open('./gis/aligned/surface_elevation_aligned.tif') as g:\n",
    "    usurfobs_data = g.read(1)\n",
    "\n",
    "with rio.open('./gis/aligned/velocity_x_aligned.tif') as h:\n",
    "    uvelsurfobs_data = h.read(1)\n",
    "\n",
    "with rio.open('./gis/aligned/velocity_y_aligned.tif') as i:\n",
    "    vvelsurfobs_data = i.read(1)\n",
    "\n",
    "icemaskobs_data = np.where(thkobs_data > 0, True, False)\n",
    "    \n",
    "f.transform == g.transform == h.transform == i.transform"
   ]
  },
  {
   "cell_type": "code",
   "execution_count": 28,
   "id": "c5370daf-bd43-4226-8861-346f5a955af3",
   "metadata": {},
   "outputs": [],
   "source": [
    "obs = Dataset('./inputs/observation.nc', 'r+', format = 'NETCDF4')\n",
    "lat = obs.createDimension('lat', len(lat_vals[:,0]))\n",
    "lon = obs.createDimension('lon', len(lon_vals[0,:]))\n",
    "\n",
    "lats = obs.createVariable('lats', 'f4', ('lat',))\n",
    "lons = obs.createVariable('lons', 'f4', ('lon',))\n",
    "thkobs = obs.createVariable('thkobs', 'f4', ('lat', 'lon',))\n",
    "usurfobs = obs.createVariable('usurfobs', 'f4', ('lat', 'lon',))\n",
    "uvelsurfobs = obs.createVariable('uvelsurfobs', 'f4', ('lat', 'lon',))\n",
    "vvelsurfobs = obs.createVariable('vvelsurfobs', 'f4', ('lat', 'lon',))\n",
    "icemaskobs = obs.createVariable('icemaskobs', 'f4', ('lat', 'lon',))\n",
    "\n",
    "lats[:] = lat_vals[:,0]\n",
    "lons[:] = lon_vals[0,:]\n",
    "thkobs[:] = thkobs_data\n",
    "usurfobs[:] = usurfobs_data\n",
    "uvelsurfobs[:] = uvelsurfobs_data\n",
    "vvelsurfobs[:] = vvelsurfobs_data\n",
    "icemaskobs[:] = icemaskobs_data"
   ]
  }
 ],
 "metadata": {
  "kernelspec": {
   "display_name": "Python 3 (ipykernel)",
   "language": "python",
   "name": "python3"
  },
  "language_info": {
   "codemirror_mode": {
    "name": "ipython",
    "version": 3
   },
   "file_extension": ".py",
   "mimetype": "text/x-python",
   "name": "python",
   "nbconvert_exporter": "python",
   "pygments_lexer": "ipython3",
   "version": "3.9.13"
  }
 },
 "nbformat": 4,
 "nbformat_minor": 5
}
